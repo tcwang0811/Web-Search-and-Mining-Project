{
 "cells": [
  {
   "cell_type": "code",
   "execution_count": null,
   "metadata": {},
   "outputs": [],
   "source": [
    "from sklearn.feature_extraction.text import CountVectorizer, TfidfTransformer\n",
    "from scipy.sparse import csr_matrix"
   ]
  },
  {
   "cell_type": "code",
   "execution_count": null,
   "metadata": {},
   "outputs": [],
   "source": [
    "def bm25(corpus,b,k1, stopword):\n",
    "    CV = CountVectorizer(ngram_range=(1,1), stop_words = stopword, min_df=5,max_df=0.3,max_features=5000)\n",
    "    IDFTrans = TfidfTransformer(sublinear_tf=True,norm='l2')\n",
    "    \n",
    "    output = CV.fit_transform(corpus)\n",
    "    IDFTrans.fit(output)\n",
    "    temp = output.copy()\n",
    "    \n",
    "    aveL = output.sum()/output.shape[0]\n",
    "    denominator = k1 * ((1-b)+b*(output.sum(1)/aveL))\n",
    "    \n",
    "    temp.data = temp.data/temp.data\n",
    "    temp = csr_matrix.multiply(temp,denominator)\n",
    "    \n",
    "    temp += output\n",
    "    output *= (k1+1)\n",
    "\n",
    "    temp.data = 1/temp.data\n",
    "    output = csr_matrix.multiply(output,temp)\n",
    "    \n",
    "    output = IDFTrans.transform(output)\n",
    "    \n",
    "    return output"
   ]
  },
  {
   "cell_type": "code",
   "execution_count": null,
   "metadata": {},
   "outputs": [],
   "source": []
  }
 ],
 "metadata": {
  "kernelspec": {
   "display_name": "Python 3",
   "language": "python",
   "name": "python3"
  },
  "language_info": {
   "codemirror_mode": {
    "name": "ipython",
    "version": 3
   },
   "file_extension": ".py",
   "mimetype": "text/x-python",
   "name": "python",
   "nbconvert_exporter": "python",
   "pygments_lexer": "ipython3",
   "version": "3.6.5"
  }
 },
 "nbformat": 4,
 "nbformat_minor": 2
}
