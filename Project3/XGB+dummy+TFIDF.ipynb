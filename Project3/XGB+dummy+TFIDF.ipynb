{
 "cells": [
  {
   "cell_type": "code",
   "execution_count": null,
   "metadata": {
    "_cell_guid": "b1076dfc-b9ad-4769-8c92-a6c4dae69d19",
    "_uuid": "8f2839f25d086af736a60e9eeb907d3b93b6e0e5"
   },
   "outputs": [],
   "source": [
    "import numpy as np # linear algebra\n",
    "import pandas as pd # data processing, CSV file I/O (e.g. pd.read_csv)\n",
    "\n",
    "from nltk.corpus import stopwords\n",
    "from sklearn.feature_extraction.text import TfidfVectorizer\n",
    "from scipy.sparse import csr_matrix, hstack\n",
    "import xgboost as xgb\n",
    "import gc\n",
    "from sklearn import preprocessing\n",
    "from sklearn.model_selection import train_test_split\n",
    "\n",
    "import os\n",
    "# print(os.listdir(\"../input\"))"
   ]
  },
  {
   "cell_type": "code",
   "execution_count": null,
   "metadata": {
    "_cell_guid": "79c7e3d0-c299-4dcb-8224-4455121ee9b0",
    "_uuid": "d629ff2d2480ee46fbb7e2d37f6b5fab8052498a"
   },
   "outputs": [],
   "source": [
    "sw = stopwords.words('russian')"
   ]
  },
  {
   "cell_type": "code",
   "execution_count": null,
   "metadata": {
    "_uuid": "fb88bcea91ceaecf2f065e2a01b63676a85108e3"
   },
   "outputs": [],
   "source": [
    "train =pd.read_csv(\"../input/train.csv\") \n",
    "test =pd.read_csv(\"../input/test.csv\")"
   ]
  },
  {
   "cell_type": "code",
   "execution_count": null,
   "metadata": {
    "_uuid": "a9def7d911c44628418ed0bffdb0328374a596ca"
   },
   "outputs": [],
   "source": [
    "# user_type: 3\n",
    "# parent_category_name: 9\n",
    "# region: 28\n",
    "# category_name: 47\n",
    "# city: 1733\n",
    "\n",
    "# check NA before adding\n",
    "oneHot = [\"parent_category_name\",\"user_type\",\"region\",\"category_name\"] # one hot \n",
    "categorical = [\"user_id\",\"city\"] # labelencoding\n",
    "nullP = [\"image_top_1\",\"param_1\",\"param_2\",\"param_3\"] # labelencoding with NA (add an indicator to identify whether it is NA)\n",
    "dropOr = [\"item_id\",\"title\",\"description\"] # to drop"
   ]
  },
  {
   "cell_type": "code",
   "execution_count": null,
   "metadata": {
    "_uuid": "aedc09e7a787afec30f78a38a61c0039d7fc4a7a"
   },
   "outputs": [],
   "source": [
    "trainIndex=train.shape[0]\n",
    "train_y = train.deal_probability\n",
    "train_x = train.drop(columns=\"deal_probability\")\n",
    "\n",
    "tr_te = pd.concat([train_x,test],axis=0)"
   ]
  },
  {
   "cell_type": "code",
   "execution_count": null,
   "metadata": {
    "_kg_hide-input": false,
    "_uuid": "d1ee6bd6b403aab97ab6fdb4b13f9dc56b4629c9"
   },
   "outputs": [],
   "source": [
    "tr_te = tr_te.assign(mon=lambda x: pd.to_datetime(x['activation_date']).dt.month,\n",
    "                     mday=lambda x: pd.to_datetime(x['activation_date']).dt.day,\n",
    "                     week=lambda x: pd.to_datetime(x['activation_date']).dt.week,\n",
    "                     wday=lambda x:pd.to_datetime(x['activation_date']).dt.dayofweek,\n",
    "                     txt=lambda x:(x['title'].astype(str)+' '+x['description'].astype(str)))"
   ]
  },
  {
   "cell_type": "code",
   "execution_count": null,
   "metadata": {
    "_uuid": "814240b0a5d22e88c7a44a46daf200f06c4c7c7e"
   },
   "outputs": [],
   "source": [
    "del train, test, train_x\n",
    "gc.collect()"
   ]
  },
  {
   "cell_type": "code",
   "execution_count": null,
   "metadata": {
    "_uuid": "09d0fa6b7d1850570869fef4cfe641cf2d97b0e5"
   },
   "outputs": [],
   "source": [
    "tr_te[\"price\"] = np.log(tr_te[\"price\"]+0.001)\n",
    "tr_te[\"price\"].fillna(tr_te.price.mean(),inplace=True)\n",
    "\n",
    "tr_te.drop([\"activation_date\",\"image\"],axis=1,inplace=True)"
   ]
  },
  {
   "cell_type": "code",
   "execution_count": null,
   "metadata": {
    "_uuid": "5ea819a04bafbab8a2d6a2197b0731288cad4333"
   },
   "outputs": [],
   "source": [
    "# labelencoding with NA\n",
    "lbl = preprocessing.LabelEncoder()\n",
    "for col in nullP:\n",
    "    toApp = tr_te[col].isnull()\n",
    "    tr_te[col] = lbl.fit_transform(tr_te[col].astype(str))\n",
    "    tr_te.loc[toApp, col] = -999\n",
    "    toApp *= 1\n",
    "    theName = \"isNA_\" + col\n",
    "    tr_te = pd.concat([tr_te,toApp.rename(theName)],axis=1)"
   ]
  },
  {
   "cell_type": "code",
   "execution_count": null,
   "metadata": {
    "_uuid": "4a5ee38b00b20a9efeeb59d861014ebfa6a486f6"
   },
   "outputs": [],
   "source": [
    "# labelencoding\n",
    "for col in categorical:\n",
    "    tr_te[col].fillna('Unknown')\n",
    "    tr_te[col] = lbl.fit_transform(tr_te[col].astype(str))"
   ]
  },
  {
   "cell_type": "code",
   "execution_count": null,
   "metadata": {
    "_uuid": "b492f63f32834789c948781caf4a0b8b24d6822e"
   },
   "outputs": [],
   "source": [
    "# one-hot\n",
    "for col in oneHot:\n",
    "    temp = pd.get_dummies(tr_te[col],prefix = col)\n",
    "    tr_te.drop(columns=col,inplace=True)\n",
    "    tr_te = pd.concat([tr_te,temp],axis=1)"
   ]
  },
  {
   "cell_type": "code",
   "execution_count": null,
   "metadata": {
    "_uuid": "2417aef31581393f0de9b3ce9c1329ed906148b5"
   },
   "outputs": [],
   "source": [
    "tr_te.drop(labels=dropOr,axis=1,inplace=True)"
   ]
  },
  {
   "cell_type": "code",
   "execution_count": null,
   "metadata": {
    "_uuid": "2c25815728bf2249bee6bc361605e10460bc8e39"
   },
   "outputs": [],
   "source": [
    "tr_te.loc[:,'txt']=tr_te.txt.apply(lambda x:x.lower().replace(\"[^[:alpha:]]\",\" \").replace(\"\\\\s+\", \" \"))"
   ]
  },
  {
   "cell_type": "code",
   "execution_count": null,
   "metadata": {
    "_uuid": "791cc696e762f421125fe6ab5193edaf256e4e6a"
   },
   "outputs": [],
   "source": [
    "def tokenizeL(text):\n",
    "    return [ w for w in str(text).split()]\n",
    "    \n",
    "vec=TfidfVectorizer(ngram_range=(1,1),stop_words=sw,min_df=5,max_df=0.3,sublinear_tf=True,norm='l2',max_features=5000)\n",
    "m_tfidf=vec.fit_transform(tr_te.txt)\n",
    "\n",
    "tr_te.drop(labels=['txt'],inplace=True,axis=1)"
   ]
  },
  {
   "cell_type": "code",
   "execution_count": null,
   "metadata": {
    "_uuid": "1855504d6bd7634cd373cd21a3d667ac74762ff0"
   },
   "outputs": [],
   "source": [
    "data  = hstack((tr_te.values,m_tfidf)).tocsr()\n",
    "\n",
    "del tr_te,m_tfidf\n",
    "gc.collect()"
   ]
  },
  {
   "cell_type": "code",
   "execution_count": null,
   "metadata": {
    "_uuid": "06828593a4f4692b9f7d78677e96959ce94e3e6c"
   },
   "outputs": [],
   "source": [
    "dtest = xgb.DMatrix(data=data[trainIndex:], missing = -999)\n",
    "train = data[:trainIndex]\n",
    "\n",
    "del data\n",
    "gc.collect()"
   ]
  },
  {
   "cell_type": "code",
   "execution_count": null,
   "metadata": {
    "_uuid": "81cc3da4b2e1e0c4ec91aa5ec9b1edc0d43019d2"
   },
   "outputs": [],
   "source": [
    "X_train, X_valid, y_train, y_valid = train_test_split(train, train_y,test_size = 0.1, random_state=5566)\n",
    "\n",
    "del train, train_y\n",
    "gc.collect()"
   ]
  },
  {
   "cell_type": "code",
   "execution_count": null,
   "metadata": {
    "_uuid": "91e09404cee8bc1437b32a9ff30de063468dd46f"
   },
   "outputs": [],
   "source": [
    "dtrain = xgb.DMatrix(data = X_train, label=y_train, missing = -999)\n",
    "deval = xgb.DMatrix(data = X_valid, label=y_valid, missing = -999)\n",
    "watchlist = [(deval, 'eval')]\n",
    "\n",
    "del X_train, X_valid, y_train, y_valid\n",
    "gc.collect()"
   ]
  },
  {
   "cell_type": "code",
   "execution_count": null,
   "metadata": {
    "_uuid": "f1da42cfcfd7c9a0fb4b5e2f8517da7c2a1bf0ae"
   },
   "outputs": [],
   "source": [
    "Dparam = {'objective' : \"reg:logistic\",\n",
    "          'booster' : \"gbtree\",\n",
    "          'eval_metric' : \"rmse\",\n",
    "          'nthread' : 4,\n",
    "          'eta':0.05,\n",
    "          'max_depth':18,\n",
    "          'min_child_weight': 11,\n",
    "          'gamma' :0,\n",
    "          'subsample':0.8,\n",
    "          'colsample_bytree':0.7,\n",
    "          'aplha':2.25,\n",
    "          'lambda':0,\n",
    "          'nrounds' : 5000}"
   ]
  },
  {
   "cell_type": "code",
   "execution_count": null,
   "metadata": {
    "_uuid": "3f6461b7b18af6ba2a0d6c8e2966203f565fc193"
   },
   "outputs": [],
   "source": [
    "xgb_clf = xgb.train(params=Dparam,dtrain=dtrain,num_boost_round=Dparam['nrounds'],early_stopping_rounds=50,evals=watchlist,verbose_eval=10)"
   ]
  },
  {
   "cell_type": "code",
   "execution_count": null,
   "metadata": {
    "_uuid": "d18a3a3dc9aa941eebdf9c0eb3cf2128cf471039"
   },
   "outputs": [],
   "source": [
    "pd.read_csv(\"../input/sample_submission.csv\").assign(deal_probability = xgb_clf.predict(dtest)).to_csv(\"xgb_2.csv\", index=False)"
   ]
  },
  {
   "cell_type": "code",
   "execution_count": null,
   "metadata": {
    "_uuid": "eeafcbaef8703bad82c70a0aefbc84458f3729bd"
   },
   "outputs": [],
   "source": []
  },
  {
   "cell_type": "code",
   "execution_count": null,
   "metadata": {
    "_uuid": "b816be6a25313b0ba1267a69ec4cee58e20b896b"
   },
   "outputs": [],
   "source": []
  },
  {
   "cell_type": "code",
   "execution_count": null,
   "metadata": {
    "_uuid": "f5995480611b26dc04ef524853e4209a77e094eb"
   },
   "outputs": [],
   "source": []
  }
 ],
 "metadata": {
  "kernelspec": {
   "display_name": "Python 3",
   "language": "python",
   "name": "python3"
  },
  "language_info": {
   "codemirror_mode": {
    "name": "ipython",
    "version": 3
   },
   "file_extension": ".py",
   "mimetype": "text/x-python",
   "name": "python",
   "nbconvert_exporter": "python",
   "pygments_lexer": "ipython3",
   "version": "3.6.5"
  }
 },
 "nbformat": 4,
 "nbformat_minor": 1
}
